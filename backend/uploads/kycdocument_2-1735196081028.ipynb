{
 "cells": [
  {
   "cell_type": "code",
   "execution_count": 3,
   "id": "7f32f1b8",
   "metadata": {},
   "outputs": [
    {
     "name": "stdout",
     "output_type": "stream",
     "text": [
      "5\n",
      "95\n"
     ]
    }
   ],
   "source": [
    "arr = [15, 85, 5, 55, 20, 95, 28]\n",
    "min_n = arr[0]\n",
    "max_n = arr[0]\n",
    "\n",
    "for i in range(len(arr)):\n",
    " if arr[i] < min_n: min_n = arr[i]\n",
    "        \n",
    " if arr[i] > max_n: max_n = arr[i]\n",
    "    \n",
    "\n",
    "print (min_n)\n",
    "print (max_n)\n",
    "    "
   ]
  },
  {
   "cell_type": "code",
   "execution_count": null,
   "id": "78045c58",
   "metadata": {},
   "outputs": [],
   "source": []
  }
 ],
 "metadata": {
  "kernelspec": {
   "display_name": "Python 3 (ipykernel)",
   "language": "python",
   "name": "python3"
  },
  "language_info": {
   "codemirror_mode": {
    "name": "ipython",
    "version": 3
   },
   "file_extension": ".py",
   "mimetype": "text/x-python",
   "name": "python",
   "nbconvert_exporter": "python",
   "pygments_lexer": "ipython3",
   "version": "3.11.5"
  }
 },
 "nbformat": 4,
 "nbformat_minor": 5
}
